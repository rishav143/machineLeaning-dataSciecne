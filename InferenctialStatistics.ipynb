{
  "nbformat": 4,
  "nbformat_minor": 0,
  "metadata": {
    "colab": {
      "provenance": [],
      "authorship_tag": "ABX9TyOXzCECM21OC52+85m3CR9E",
      "include_colab_link": true
    },
    "kernelspec": {
      "name": "python3",
      "display_name": "Python 3"
    },
    "language_info": {
      "name": "python"
    }
  },
  "cells": [
    {
      "cell_type": "markdown",
      "metadata": {
        "id": "view-in-github",
        "colab_type": "text"
      },
      "source": [
        "<a href=\"https://colab.research.google.com/github/rishav143/machineLeaning-dataSciecne/blob/main/InferenctialStatistics.ipynb\" target=\"_parent\"><img src=\"https://colab.research.google.com/assets/colab-badge.svg\" alt=\"Open In Colab\"/></a>"
      ]
    },
    {
      "cell_type": "code",
      "execution_count": null,
      "metadata": {
        "id": "v3lg25U7f4B2"
      },
      "outputs": [],
      "source": [
        "from scipy.stats import chi2_contingency"
      ]
    },
    {
      "cell_type": "code",
      "source": [
        "chi2_contingency([[207,282,241],[234,242,232]])"
      ],
      "metadata": {
        "colab": {
          "base_uri": "https://localhost:8080/"
        },
        "id": "jAjbz_4FljQw",
        "outputId": "9541ce0d-9733-4a57-b2ee-e2230ba13f0d"
      },
      "execution_count": null,
      "outputs": [
        {
          "output_type": "execute_result",
          "data": {
            "text/plain": [
              "Chi2ContingencyResult(statistic=4.542228269825232, pvalue=0.1031971404730939, dof=2, expected_freq=array([[223.87343533, 266.00834492, 240.11821975],\n",
              "       [217.12656467, 257.99165508, 232.88178025]]))"
            ]
          },
          "metadata": {},
          "execution_count": 3
        }
      ]
    },
    {
      "cell_type": "markdown",
      "source": [
        "here we found our p_value and expected freq, we can check here for null hypothesis if pvalue less than level of significance we will reject the null hypothesis."
      ],
      "metadata": {
        "id": "1NQnqQuel06Z"
      }
    },
    {
      "cell_type": "code",
      "source": [],
      "metadata": {
        "id": "2FwkYEB_mHwG"
      },
      "execution_count": null,
      "outputs": []
    },
    {
      "cell_type": "code",
      "source": [],
      "metadata": {
        "id": "TcfMNuVTl0VD"
      },
      "execution_count": null,
      "outputs": []
    }
  ]
}